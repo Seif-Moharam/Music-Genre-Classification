{
  "nbformat": 4,
  "nbformat_minor": 0,
  "metadata": {
    "colab": {
      "provenance": [],
      "authorship_tag": "ABX9TyMaSGPX4T0qCe3x1NXtd6WO",
      "include_colab_link": true
    },
    "kernelspec": {
      "name": "python3",
      "display_name": "Python 3"
    },
    "language_info": {
      "name": "python"
    }
  },
  "cells": [
    {
      "cell_type": "markdown",
      "metadata": {
        "id": "view-in-github",
        "colab_type": "text"
      },
      "source": [
        "<a href=\"https://colab.research.google.com/github/Seif-Moharam/Music-Genre-Classification/blob/main/Music_Genre_Classification.ipynb\" target=\"_parent\"><img src=\"https://colab.research.google.com/assets/colab-badge.svg\" alt=\"Open In Colab\"/></a>"
      ]
    },
    {
      "cell_type": "code",
      "execution_count": 1,
      "metadata": {
        "id": "6iXrLAgxiGOy"
      },
      "outputs": [],
      "source": [
        "from google.colab import drive\n",
        "import os\n",
        "\n",
        "import librosa\n",
        "import pandas as pd\n",
        "import numpy as np\n",
        "import matplotlib.pyplot as plt\n",
        "import seaborn as sns\n",
        "\n",
        "from sklearn import svm\n",
        "from sklearn.model_selection import train_test_split\n",
        "from sklearn.preprocessing import StandardScaler\n",
        "from sklearn.metrics import confusion_matrix, accuracy_score\n",
        "\n",
        "from tqdm import tqdm"
      ]
    },
    {
      "cell_type": "code",
      "source": [
        "drive.mount(\"/content/drive\")\n",
        "path = \"/content/drive/MyDrive/Colab Notebooks/Elevvo Internship/Music Genre Classification/Data/genres_original\"\n",
        "\n",
        "# This file seems corrupted and I wasn't able to work around\n",
        "bad_file_path = \"/content/drive/MyDrive/Colab Notebooks/Elevvo Internship/Music Genre Classification/Data/genres_original/jazz/jazz.00054.wav\"\n",
        "\n",
        "if os.path.exists(bad_file_path):\n",
        "    os.remove(bad_file_path)\n",
        "    print(f\"Removed problematic file: {bad_file_path}\")"
      ],
      "metadata": {
        "id": "WtdnixrFikOG",
        "colab": {
          "base_uri": "https://localhost:8080/"
        },
        "outputId": "3bc4c113-879f-4d2f-c906-05fa1c93a152"
      },
      "execution_count": 2,
      "outputs": [
        {
          "output_type": "stream",
          "name": "stdout",
          "text": [
            "Mounted at /content/drive\n"
          ]
        }
      ]
    },
    {
      "cell_type": "code",
      "source": [
        "def extract_features(file_path):\n",
        "  try:\n",
        "    y, sr = librosa.load(file_path, duration=30)\n",
        "  except Exception as e:\n",
        "    print(f\"Error loading {file_path}: {e}\")\n",
        "    return None\n",
        "\n",
        "  features = {\n",
        "      \"zero_crossing_rate\": np.mean(librosa.feature.zero_crossing_rate(y=y)),\n",
        "      \"rms_energy\": np.mean(librosa.feature.rms(y=y)),\n",
        "      \"spectral_centroid_mean\": np.mean(librosa.feature.spectral_centroid(y=y, sr=sr)),\n",
        "      \"spectral_centroid_std\": np.std(librosa.feature.spectral_centroid(y=y, sr=sr)),\n",
        "      \"spectral_bandwidth_mean\": np.mean(librosa.feature.spectral_bandwidth(y=y, sr=sr)),\n",
        "      \"spectral_rolloff_mean\": np.mean(librosa.feature.spectral_rolloff(y=y, sr=sr)),\n",
        "  }\n",
        "\n",
        "  mfcc = librosa.feature.mfcc(y=y, sr=sr, n_mfcc=20)\n",
        "  for i in range(20):\n",
        "    features[f'mfcc_{i+1}_mean'] = np.mean(mfcc[i])\n",
        "    features[f'mfcc_{i+1}_std'] = np.std(mfcc[i])\n",
        "\n",
        "  chroma_stft = librosa.feature.chroma_stft(y=y, sr=sr)\n",
        "  features.update({\n",
        "      'chroma_stft_mean': np.mean(chroma_stft),\n",
        "      'chroma_stft_var': np.var(chroma_stft),\n",
        "      'chroma_stft_std': np.std(chroma_stft),\n",
        "  })\n",
        "\n",
        "  y_harmonic, y_percussive = librosa.effects.hpss(y)\n",
        "  features.update({\n",
        "      'harmonic_mean': np.mean(y_harmonic),\n",
        "      'percussive_mean': np.mean(y_percussive),\n",
        "      'harmonic_ratio': np.mean(y_harmonic) / (np.mean(y_percussive) + 1e-6)\n",
        "  })\n",
        "\n",
        "  tempo, beat_frames = librosa.beat.beat_track(y=y, sr=sr)\n",
        "  features['tempo'] = tempo\n",
        "\n",
        "  return features"
      ],
      "metadata": {
        "id": "ucXSYzA3-7q3"
      },
      "execution_count": 3,
      "outputs": []
    },
    {
      "cell_type": "code",
      "source": [
        "audio_files = []\n",
        "for root, dirs, files in os.walk(path):\n",
        "  for file in files:\n",
        "    genre = os.path.basename(root)\n",
        "    audio_files.append({\n",
        "      'file_path': os.path.join(root, file),\n",
        "      'genre': genre\n",
        "      })\n",
        "\n",
        "df_files = pd.DataFrame(audio_files)"
      ],
      "metadata": {
        "id": "6OyRW_PSlVEe"
      },
      "execution_count": 4,
      "outputs": []
    },
    {
      "cell_type": "code",
      "source": [
        "features_list = []\n",
        "for idx, row in tqdm(df_files.iterrows(), total=len(df_files)):\n",
        "  features = extract_features(row['file_path'])\n",
        "  features['genre'] = row['genre']\n",
        "  features['filename'] = os.path.basename(row['file_path'])\n",
        "  features_list.append(features)\n",
        "\n",
        "df_features = pd.DataFrame(features_list)"
      ],
      "metadata": {
        "colab": {
          "base_uri": "https://localhost:8080/"
        },
        "id": "LVarpreWsg8y",
        "outputId": "8d108af6-9032-4d31-ea07-2a2c4a920bea"
      },
      "execution_count": 5,
      "outputs": [
        {
          "output_type": "stream",
          "name": "stderr",
          "text": [
            "100%|██████████| 999/999 [50:36<00:00,  3.04s/it]\n"
          ]
        }
      ]
    },
    {
      "cell_type": "code",
      "source": [
        "# The previous cell took too long to run, so I made a CSV file to save time\n",
        "df_features.to_csv('/content/drive/MyDrive/Colab Notebooks/Elevvo Internship/Music Genre Classification/Data/genres_original/features.csv', index=False)"
      ],
      "metadata": {
        "id": "Z1LLc6yxu6Nd"
      },
      "execution_count": 7,
      "outputs": []
    },
    {
      "cell_type": "code",
      "source": [],
      "metadata": {
        "id": "LXyVTa4ATzbJ"
      },
      "execution_count": null,
      "outputs": []
    }
  ]
}